{
 "cells": [
  {
   "cell_type": "code",
   "execution_count": 3,
   "metadata": {},
   "outputs": [],
   "source": [
    "from Queue import Queue\n",
    "from threading import Thread\n",
    "import time"
   ]
  },
  {
   "cell_type": "code",
   "execution_count": 4,
   "metadata": {},
   "outputs": [],
   "source": [
    "class Worker(Thread):\n",
    "    def __init__(self, queue):\n",
    "        Thread.__init__(self)\n",
    "        self.queue = queue\n",
    "    \n",
    "    def run(self):\n",
    "        while True:\n",
    "            string = self.queue.get()\n",
    "            print \"Received: \", string\n",
    "            time.sleep(4)\n",
    "            self.queue.task_done()\n"
   ]
  },
  {
   "cell_type": "code",
   "execution_count": 5,
   "metadata": {},
   "outputs": [],
   "source": [
    "NUM_WORKERS=4\n",
    "\n",
    "def main():\n",
    "    q = Queue()\n",
    "    \n",
    "    #Create worker threads\n",
    "    for i in range(NUM_WORKERS):\n",
    "        t = Worker(q)\n",
    "        t.daemon = True\n",
    "        t.start()\n",
    "    \n",
    "    for i in range(30):\n",
    "        q.put(i)\n",
    "        \n",
    "    #Block until all items in queue have been processed\n",
    "    q.join()\n",
    "    "
   ]
  },
  {
   "cell_type": "code",
   "execution_count": 6,
   "metadata": {},
   "outputs": [
    {
     "name": "stdout",
     "output_type": "stream",
     "text": [
      "Received:  0\n",
      "Received:  1\n",
      "Received:  2\n",
      "Received:  3\n",
      "Received:  4\n",
      "Received:  5\n",
      "Received:  6\n",
      "Received:  7\n",
      "Received:  8\n",
      "Received:  9\n",
      "Received: Received:  11\n",
      " 10\n",
      "Received:  12\n",
      "Received: Received: Received:  13\n",
      " 15\n",
      " 14\n",
      "Received:  16\n",
      "Received: Received:  18\n",
      "Received:  17\n",
      " 19\n",
      "Received:  20\n",
      "Received:  21\n",
      "Received: Received:  23 \n",
      "22\n",
      "Received:  24\n",
      "Received: Received:  25 Received:  27\n",
      "\n",
      " 26\n",
      "Received:  28\n",
      "Received:  29\n"
     ]
    }
   ],
   "source": [
    "main()"
   ]
  },
  {
   "cell_type": "code",
   "execution_count": null,
   "metadata": {},
   "outputs": [],
   "source": []
  }
 ],
 "metadata": {
  "kernelspec": {
   "display_name": "Python 2",
   "language": "python",
   "name": "python2"
  },
  "language_info": {
   "codemirror_mode": {
    "name": "ipython",
    "version": 2
   },
   "file_extension": ".py",
   "mimetype": "text/x-python",
   "name": "python",
   "nbconvert_exporter": "python",
   "pygments_lexer": "ipython2",
   "version": "2.7.14"
  }
 },
 "nbformat": 4,
 "nbformat_minor": 2
}
